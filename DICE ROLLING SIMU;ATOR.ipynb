{
 "cells": [
  {
   "cell_type": "markdown",
   "id": "99d6c375",
   "metadata": {},
   "source": [
    "# K22HC;GROUP:2;ROLL NO:56&67 NAME:MARNEEDI JASWANTH AND P.SUMANTH KARTHIK "
   ]
  },
  {
   "cell_type": "markdown",
   "id": "51a5d984",
   "metadata": {},
   "source": [
    "# PROJECT NAME:DICE ROLLING SIMULATOR"
   ]
  },
  {
   "cell_type": "markdown",
   "id": "c4d66412",
   "metadata": {},
   "source": [
    "## we will create a classic rolling dice simulator with the help of basic Python knowledge.Here we will be using the random module since we randomize the dice simulator for random outputs."
   ]
  },
  {
   "cell_type": "markdown",
   "id": "45b58607",
   "metadata": {},
   "source": [
    "TAKING INPUT FROM RANDOM INPUT HAVING RANDINT FROM 1 TO 6 \n",
    "USING IF CONDITION AND GETTING RANDOM INPUT 1,2,3,4,5,6 AND USING PRINT FOR THEIR RESPECTIVE OUTCOMES"
   ]
  },
  {
   "cell_type": "markdown",
   "id": "e4181751",
   "metadata": {},
   "source": [
    "PRESS r TO ROLL AGAIN AND e TO EXIT"
   ]
  },
  {
   "cell_type": "code",
   "execution_count": null,
   "id": "df5cd66b",
   "metadata": {},
   "outputs": [
    {
     "name": "stdout",
     "output_type": "stream",
     "text": [
      "[-----]\n",
      "[0   0]\n",
      "[  0  ]\n",
      "[0   0]\n",
      "[-----]\n"
     ]
    }
   ],
   "source": [
    "import random\n",
    "x = \"r\"\n",
    "while x == \"r\":\n",
    "     \n",
    "    no = random.randint(1,6)\n",
    "     \n",
    "    if no == 1:\n",
    "        print(\"[-----]\")\n",
    "        print(\"[     ]\")\n",
    "        print(\"[  0  ]\")\n",
    "        print(\"[     ]\")\n",
    "        print(\"[-----]\")\n",
    "    if no == 2:\n",
    "        print(\"[-----]\")\n",
    "        print(\"[ 0   ]\")\n",
    "        print(\"[     ]\")\n",
    "        print(\"[   0 ]\")\n",
    "        print(\"[-----]\")\n",
    "    if no == 3:\n",
    "        print(\"[-----]\")\n",
    "        print(\"[     ]\")\n",
    "        print(\"[0 0 0]\")\n",
    "        print(\"[     ]\")\n",
    "        print(\"[-----]\")\n",
    "    if no == 4:\n",
    "        print(\"[-----]\")\n",
    "        print(\"[0   0]\")\n",
    "        print(\"[     ]\")\n",
    "        print(\"[0   0]\")\n",
    "        print(\"[-----]\")\n",
    "    if no == 5:\n",
    "        print(\"[-----]\")\n",
    "        print(\"[0   0]\")\n",
    "        print(\"[  0  ]\")\n",
    "        print(\"[0   0]\")\n",
    "        print(\"[-----]\")\n",
    "    if no == 6:\n",
    "        print(\"[-----]\")\n",
    "        print(\"[0 0 0]\")\n",
    "        print(\"[     ]\")\n",
    "        print(\"[0 0 0]\")\n",
    "        print(\"[-----]\")\n",
    "         \n",
    "    x=input(\"press r to roll again and e to exit:\")\n",
    "    print(\"\\n\")"
   ]
  }
 ],
 "metadata": {
  "kernelspec": {
   "display_name": "Python 3 (ipykernel)",
   "language": "python",
   "name": "python3"
  },
  "language_info": {
   "codemirror_mode": {
    "name": "ipython",
    "version": 3
   },
   "file_extension": ".py",
   "mimetype": "text/x-python",
   "name": "python",
   "nbconvert_exporter": "python",
   "pygments_lexer": "ipython3",
   "version": "3.9.12"
  }
 },
 "nbformat": 4,
 "nbformat_minor": 5
}
